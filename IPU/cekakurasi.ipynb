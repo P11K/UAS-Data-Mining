{
 "cells": [
  {
   "cell_type": "code",
   "execution_count": 274,
   "metadata": {},
   "outputs": [],
   "source": [
    "import numpy as np\n",
    "import pandas as pd\n",
    "# from sklearn.datasets import load_iris\n",
    "from sklearn.model_selection import train_test_split\n",
    "from sklearn.neighbors import KNeighborsClassifier\n",
    "from sklearn.ensemble import RandomForestClassifier\n",
    "from sklearn.tree import DecisionTreeClassifier\n",
    "from sklearn.metrics import accuracy_score, classification_report, confusion_matrix\n",
    "import seaborn as sns\n",
    "import matplotlib.pyplot as plt\n",
    "from sklearn.preprocessing import StandardScaler\n",
    "from sklearn.svm import SVC\n",
    "from sklearn.ensemble import GradientBoostingClassifier\n",
    "from sklearn.neural_network import MLPClassifier\n",
    "from sklearn.naive_bayes import GaussianNB\n",
    "# import pandas as pd\n",
    "# import missingno as msno\n",
    "# import numpy as np\n",
    "from sklearn.impute import SimpleImputer"
   ]
  },
  {
   "cell_type": "code",
   "execution_count": 275,
   "metadata": {},
   "outputs": [
    {
     "data": {
      "text/html": [
       "<div>\n",
       "<style scoped>\n",
       "    .dataframe tbody tr th:only-of-type {\n",
       "        vertical-align: middle;\n",
       "    }\n",
       "\n",
       "    .dataframe tbody tr th {\n",
       "        vertical-align: top;\n",
       "    }\n",
       "\n",
       "    .dataframe thead th {\n",
       "        text-align: right;\n",
       "    }\n",
       "</style>\n",
       "<table border=\"1\" class=\"dataframe\">\n",
       "  <thead>\n",
       "    <tr style=\"text-align: right;\">\n",
       "      <th></th>\n",
       "      <th>tanggal</th>\n",
       "      <th>pm10</th>\n",
       "      <th>pm25</th>\n",
       "      <th>so2</th>\n",
       "      <th>co</th>\n",
       "      <th>o3</th>\n",
       "      <th>no2</th>\n",
       "      <th>max</th>\n",
       "      <th>critical</th>\n",
       "      <th>categori</th>\n",
       "      <th>location</th>\n",
       "    </tr>\n",
       "  </thead>\n",
       "  <tbody>\n",
       "    <tr>\n",
       "      <th>0</th>\n",
       "      <td>1/1/2021</td>\n",
       "      <td>43</td>\n",
       "      <td>NaN</td>\n",
       "      <td>58</td>\n",
       "      <td>29</td>\n",
       "      <td>35</td>\n",
       "      <td>65</td>\n",
       "      <td>65</td>\n",
       "      <td>O3</td>\n",
       "      <td>SEDANG</td>\n",
       "      <td>DKI2</td>\n",
       "    </tr>\n",
       "    <tr>\n",
       "      <th>1</th>\n",
       "      <td>1/2/2021</td>\n",
       "      <td>58</td>\n",
       "      <td>NaN</td>\n",
       "      <td>86</td>\n",
       "      <td>38</td>\n",
       "      <td>64</td>\n",
       "      <td>80</td>\n",
       "      <td>86</td>\n",
       "      <td>PM25</td>\n",
       "      <td>SEDANG</td>\n",
       "      <td>DKI3</td>\n",
       "    </tr>\n",
       "    <tr>\n",
       "      <th>2</th>\n",
       "      <td>1/3/2021</td>\n",
       "      <td>64</td>\n",
       "      <td>NaN</td>\n",
       "      <td>93</td>\n",
       "      <td>25</td>\n",
       "      <td>62</td>\n",
       "      <td>86</td>\n",
       "      <td>93</td>\n",
       "      <td>PM25</td>\n",
       "      <td>SEDANG</td>\n",
       "      <td>DKI3</td>\n",
       "    </tr>\n",
       "    <tr>\n",
       "      <th>3</th>\n",
       "      <td>1/4/2021</td>\n",
       "      <td>50</td>\n",
       "      <td>NaN</td>\n",
       "      <td>67</td>\n",
       "      <td>24</td>\n",
       "      <td>31</td>\n",
       "      <td>77</td>\n",
       "      <td>77</td>\n",
       "      <td>O3</td>\n",
       "      <td>SEDANG</td>\n",
       "      <td>DKI2</td>\n",
       "    </tr>\n",
       "    <tr>\n",
       "      <th>4</th>\n",
       "      <td>1/5/2021</td>\n",
       "      <td>59</td>\n",
       "      <td>NaN</td>\n",
       "      <td>89</td>\n",
       "      <td>24</td>\n",
       "      <td>35</td>\n",
       "      <td>77</td>\n",
       "      <td>89</td>\n",
       "      <td>PM25</td>\n",
       "      <td>SEDANG</td>\n",
       "      <td>DKI3</td>\n",
       "    </tr>\n",
       "    <tr>\n",
       "      <th>...</th>\n",
       "      <td>...</td>\n",
       "      <td>...</td>\n",
       "      <td>...</td>\n",
       "      <td>...</td>\n",
       "      <td>...</td>\n",
       "      <td>...</td>\n",
       "      <td>...</td>\n",
       "      <td>...</td>\n",
       "      <td>...</td>\n",
       "      <td>...</td>\n",
       "      <td>...</td>\n",
       "    </tr>\n",
       "    <tr>\n",
       "      <th>360</th>\n",
       "      <td>12/27/2021</td>\n",
       "      <td>75</td>\n",
       "      <td>121.0</td>\n",
       "      <td>61</td>\n",
       "      <td>23</td>\n",
       "      <td>40</td>\n",
       "      <td>47</td>\n",
       "      <td>121</td>\n",
       "      <td>PM25</td>\n",
       "      <td>TIDAK SEHAT</td>\n",
       "      <td>DKI4</td>\n",
       "    </tr>\n",
       "    <tr>\n",
       "      <th>361</th>\n",
       "      <td>12/28/2021</td>\n",
       "      <td>59</td>\n",
       "      <td>89.0</td>\n",
       "      <td>53</td>\n",
       "      <td>16</td>\n",
       "      <td>34</td>\n",
       "      <td>33</td>\n",
       "      <td>89</td>\n",
       "      <td>PM25</td>\n",
       "      <td>SEDANG</td>\n",
       "      <td>DKI4</td>\n",
       "    </tr>\n",
       "    <tr>\n",
       "      <th>362</th>\n",
       "      <td>12/29/2021</td>\n",
       "      <td>61</td>\n",
       "      <td>98.0</td>\n",
       "      <td>54</td>\n",
       "      <td>15</td>\n",
       "      <td>37</td>\n",
       "      <td>29</td>\n",
       "      <td>98</td>\n",
       "      <td>PM25</td>\n",
       "      <td>SEDANG</td>\n",
       "      <td>DKI4</td>\n",
       "    </tr>\n",
       "    <tr>\n",
       "      <th>363</th>\n",
       "      <td>12/30/2021</td>\n",
       "      <td>60</td>\n",
       "      <td>102.0</td>\n",
       "      <td>53</td>\n",
       "      <td>17</td>\n",
       "      <td>38</td>\n",
       "      <td>44</td>\n",
       "      <td>102</td>\n",
       "      <td>PM25</td>\n",
       "      <td>TIDAK SEHAT</td>\n",
       "      <td>DKI4</td>\n",
       "    </tr>\n",
       "    <tr>\n",
       "      <th>364</th>\n",
       "      <td>12/31/2021</td>\n",
       "      <td>64</td>\n",
       "      <td>90.0</td>\n",
       "      <td>52</td>\n",
       "      <td>44</td>\n",
       "      <td>37</td>\n",
       "      <td>53</td>\n",
       "      <td>90</td>\n",
       "      <td>PM25</td>\n",
       "      <td>SEDANG</td>\n",
       "      <td>DKI4</td>\n",
       "    </tr>\n",
       "  </tbody>\n",
       "</table>\n",
       "<p>365 rows × 11 columns</p>\n",
       "</div>"
      ],
      "text/plain": [
       "        tanggal  pm10   pm25  so2  co  o3  no2  max critical     categori  \\\n",
       "0      1/1/2021    43    NaN   58  29  35   65   65       O3       SEDANG   \n",
       "1      1/2/2021    58    NaN   86  38  64   80   86     PM25       SEDANG   \n",
       "2      1/3/2021    64    NaN   93  25  62   86   93     PM25       SEDANG   \n",
       "3      1/4/2021    50    NaN   67  24  31   77   77       O3       SEDANG   \n",
       "4      1/5/2021    59    NaN   89  24  35   77   89     PM25       SEDANG   \n",
       "..          ...   ...    ...  ...  ..  ..  ...  ...      ...          ...   \n",
       "360  12/27/2021    75  121.0   61  23  40   47  121     PM25  TIDAK SEHAT   \n",
       "361  12/28/2021    59   89.0   53  16  34   33   89     PM25       SEDANG   \n",
       "362  12/29/2021    61   98.0   54  15  37   29   98     PM25       SEDANG   \n",
       "363  12/30/2021    60  102.0   53  17  38   44  102     PM25  TIDAK SEHAT   \n",
       "364  12/31/2021    64   90.0   52  44  37   53   90     PM25       SEDANG   \n",
       "\n",
       "    location  \n",
       "0       DKI2  \n",
       "1       DKI3  \n",
       "2       DKI3  \n",
       "3       DKI2  \n",
       "4       DKI3  \n",
       "..       ...  \n",
       "360     DKI4  \n",
       "361     DKI4  \n",
       "362     DKI4  \n",
       "363     DKI4  \n",
       "364     DKI4  \n",
       "\n",
       "[365 rows x 11 columns]"
      ]
     },
     "execution_count": 275,
     "metadata": {},
     "output_type": "execute_result"
    }
   ],
   "source": [
    "dataset = pd.read_csv('Indeks Standar Pencemar Udara di Provinsi DKI Jakarta 2021.csv',delimiter=',')\n",
    "dataset"
   ]
  },
  {
   "cell_type": "code",
   "execution_count": 276,
   "metadata": {},
   "outputs": [],
   "source": [
    "# Menghapus baris yang mengandung nilai yang hilang dari kolom \"pm25\"\n",
    "dataset.dropna(subset=['pm25'], inplace=True)\n"
   ]
  },
  {
   "cell_type": "code",
   "execution_count": 277,
   "metadata": {},
   "outputs": [],
   "source": [
    "from sklearn.preprocessing import LabelEncoder\n",
    "\n",
    "laen = LabelEncoder()\n",
    "dataset['critical'] = laen.fit_transform(dataset['critical'])\n",
    "dataset['categori'] = laen.fit_transform(dataset['categori'])\n"
   ]
  },
  {
   "cell_type": "code",
   "execution_count": 278,
   "metadata": {},
   "outputs": [
    {
     "data": {
      "text/plain": [
       "tanggal      object\n",
       "pm10          int64\n",
       "pm25        float64\n",
       "so2           int64\n",
       "co            int64\n",
       "o3            int64\n",
       "no2           int64\n",
       "max           int64\n",
       "critical      int32\n",
       "categori      int32\n",
       "location     object\n",
       "dtype: object"
      ]
     },
     "execution_count": 278,
     "metadata": {},
     "output_type": "execute_result"
    }
   ],
   "source": [
    "dataset.dtypes"
   ]
  },
  {
   "cell_type": "code",
   "execution_count": 279,
   "metadata": {},
   "outputs": [
    {
     "data": {
      "text/html": [
       "<div>\n",
       "<style scoped>\n",
       "    .dataframe tbody tr th:only-of-type {\n",
       "        vertical-align: middle;\n",
       "    }\n",
       "\n",
       "    .dataframe tbody tr th {\n",
       "        vertical-align: top;\n",
       "    }\n",
       "\n",
       "    .dataframe thead th {\n",
       "        text-align: right;\n",
       "    }\n",
       "</style>\n",
       "<table border=\"1\" class=\"dataframe\">\n",
       "  <thead>\n",
       "    <tr style=\"text-align: right;\">\n",
       "      <th></th>\n",
       "      <th>pm10</th>\n",
       "      <th>pm25</th>\n",
       "      <th>so2</th>\n",
       "      <th>co</th>\n",
       "      <th>o3</th>\n",
       "      <th>no2</th>\n",
       "      <th>max</th>\n",
       "      <th>critical</th>\n",
       "      <th>categori</th>\n",
       "    </tr>\n",
       "  </thead>\n",
       "  <tbody>\n",
       "    <tr>\n",
       "      <th>count</th>\n",
       "      <td>334.000000</td>\n",
       "      <td>334.000000</td>\n",
       "      <td>334.000000</td>\n",
       "      <td>334.000000</td>\n",
       "      <td>334.000000</td>\n",
       "      <td>334.000000</td>\n",
       "      <td>334.000000</td>\n",
       "      <td>334.000000</td>\n",
       "      <td>334.000000</td>\n",
       "    </tr>\n",
       "    <tr>\n",
       "      <th>mean</th>\n",
       "      <td>61.389222</td>\n",
       "      <td>94.694611</td>\n",
       "      <td>51.134731</td>\n",
       "      <td>14.526946</td>\n",
       "      <td>50.461078</td>\n",
       "      <td>30.413174</td>\n",
       "      <td>95.368263</td>\n",
       "      <td>1.973054</td>\n",
       "      <td>1.398204</td>\n",
       "    </tr>\n",
       "    <tr>\n",
       "      <th>std</th>\n",
       "      <td>14.771269</td>\n",
       "      <td>24.153839</td>\n",
       "      <td>7.883334</td>\n",
       "      <td>4.940869</td>\n",
       "      <td>11.992865</td>\n",
       "      <td>9.803012</td>\n",
       "      <td>24.484947</td>\n",
       "      <td>0.283466</td>\n",
       "      <td>0.508306</td>\n",
       "    </tr>\n",
       "    <tr>\n",
       "      <th>min</th>\n",
       "      <td>19.000000</td>\n",
       "      <td>33.000000</td>\n",
       "      <td>38.000000</td>\n",
       "      <td>7.000000</td>\n",
       "      <td>27.000000</td>\n",
       "      <td>9.000000</td>\n",
       "      <td>45.000000</td>\n",
       "      <td>0.000000</td>\n",
       "      <td>0.000000</td>\n",
       "    </tr>\n",
       "    <tr>\n",
       "      <th>25%</th>\n",
       "      <td>54.000000</td>\n",
       "      <td>78.250000</td>\n",
       "      <td>44.000000</td>\n",
       "      <td>11.000000</td>\n",
       "      <td>42.000000</td>\n",
       "      <td>23.000000</td>\n",
       "      <td>79.000000</td>\n",
       "      <td>2.000000</td>\n",
       "      <td>1.000000</td>\n",
       "    </tr>\n",
       "    <tr>\n",
       "      <th>50%</th>\n",
       "      <td>62.000000</td>\n",
       "      <td>94.500000</td>\n",
       "      <td>52.000000</td>\n",
       "      <td>13.000000</td>\n",
       "      <td>50.000000</td>\n",
       "      <td>30.000000</td>\n",
       "      <td>95.000000</td>\n",
       "      <td>2.000000</td>\n",
       "      <td>1.000000</td>\n",
       "    </tr>\n",
       "    <tr>\n",
       "      <th>75%</th>\n",
       "      <td>68.000000</td>\n",
       "      <td>108.750000</td>\n",
       "      <td>54.000000</td>\n",
       "      <td>17.000000</td>\n",
       "      <td>57.000000</td>\n",
       "      <td>36.000000</td>\n",
       "      <td>109.000000</td>\n",
       "      <td>2.000000</td>\n",
       "      <td>2.000000</td>\n",
       "    </tr>\n",
       "    <tr>\n",
       "      <th>max</th>\n",
       "      <td>179.000000</td>\n",
       "      <td>174.000000</td>\n",
       "      <td>82.000000</td>\n",
       "      <td>44.000000</td>\n",
       "      <td>151.000000</td>\n",
       "      <td>65.000000</td>\n",
       "      <td>179.000000</td>\n",
       "      <td>4.000000</td>\n",
       "      <td>2.000000</td>\n",
       "    </tr>\n",
       "  </tbody>\n",
       "</table>\n",
       "</div>"
      ],
      "text/plain": [
       "             pm10        pm25         so2          co          o3         no2  \\\n",
       "count  334.000000  334.000000  334.000000  334.000000  334.000000  334.000000   \n",
       "mean    61.389222   94.694611   51.134731   14.526946   50.461078   30.413174   \n",
       "std     14.771269   24.153839    7.883334    4.940869   11.992865    9.803012   \n",
       "min     19.000000   33.000000   38.000000    7.000000   27.000000    9.000000   \n",
       "25%     54.000000   78.250000   44.000000   11.000000   42.000000   23.000000   \n",
       "50%     62.000000   94.500000   52.000000   13.000000   50.000000   30.000000   \n",
       "75%     68.000000  108.750000   54.000000   17.000000   57.000000   36.000000   \n",
       "max    179.000000  174.000000   82.000000   44.000000  151.000000   65.000000   \n",
       "\n",
       "              max    critical    categori  \n",
       "count  334.000000  334.000000  334.000000  \n",
       "mean    95.368263    1.973054    1.398204  \n",
       "std     24.484947    0.283466    0.508306  \n",
       "min     45.000000    0.000000    0.000000  \n",
       "25%     79.000000    2.000000    1.000000  \n",
       "50%     95.000000    2.000000    1.000000  \n",
       "75%    109.000000    2.000000    2.000000  \n",
       "max    179.000000    4.000000    2.000000  "
      ]
     },
     "execution_count": 279,
     "metadata": {},
     "output_type": "execute_result"
    }
   ],
   "source": [
    "dataset.describe()"
   ]
  },
  {
   "cell_type": "code",
   "execution_count": 280,
   "metadata": {},
   "outputs": [
    {
     "data": {
      "text/plain": [
       "tanggal     0\n",
       "pm10        0\n",
       "pm25        0\n",
       "so2         0\n",
       "co          0\n",
       "o3          0\n",
       "no2         0\n",
       "max         0\n",
       "critical    0\n",
       "categori    0\n",
       "location    0\n",
       "dtype: int64"
      ]
     },
     "execution_count": 280,
     "metadata": {},
     "output_type": "execute_result"
    }
   ],
   "source": [
    "missing = dataset.isnull().sum()\n",
    "missing"
   ]
  },
  {
   "cell_type": "code",
   "execution_count": 281,
   "metadata": {},
   "outputs": [],
   "source": [
    "dataset.drop(columns=['tanggal'], inplace=True)"
   ]
  },
  {
   "cell_type": "code",
   "execution_count": 282,
   "metadata": {},
   "outputs": [
    {
     "data": {
      "text/plain": [
       "<Axes: >"
      ]
     },
     "execution_count": 282,
     "metadata": {},
     "output_type": "execute_result"
    },
    {
     "data": {
      "image/png": "[encoded data removed]",
      "text/plain": [
       "<Figure size 640x480 with 1 Axes>"
      ]
     },
     "metadata": {},
     "output_type": "display_data"
    }
   ],
   "source": [
    "sns.boxenplot(data=dataset)"
   ]
  },
  {
   "cell_type": "code",
   "execution_count": 283,
   "metadata": {},
   "outputs": [],
   "source": [
    "def ilang(df, column, lower_quantile, upper_quantile):\n",
    "    lower_bound = df[column].quantile(lower_quantile)\n",
    "    upper_bound = df[column].quantile(upper_quantile)\n",
    "    \n",
    "    IQR = upper_bound - lower_bound\n",
    "\n",
    "    down = lower_bound - (1.5 * IQR) \n",
    "    up = upper_bound + (1.5 * IQR)\n",
    "\n",
    "    # Menghapus outliers\n",
    "    df_filtered = df[(df[column] >= down) & (df[column] <= up)]\n",
    "    \n",
    "    # Update outlier dengan rata-rata\n",
    "    mean_sib = df_filtered[column].mean()\n",
    "    df.loc[(df[column] < down) | (df[column] > up), column] = mean_sib\n",
    "    \n",
    "    # Jangan lakukan visualisasi di dalam fungsi\n",
    "    sns.boxplot(y=column, data=df)\n",
    "    plt.show()\n",
    "    print(\"Jumlah Data :\",len(df_filtered))\n",
    "    \n",
    "    # Kembalikan dataframe yang sudah difilter\n",
    "    return df_filtered\n"
   ]
  },
  {
   "cell_type": "code",
   "execution_count": 284,
   "metadata": {},
   "outputs": [
    {
     "data": {
      "image/png": "[encoded data removed]",
      "text/plain": [
       "<Figure size 640x480 with 1 Axes>"
      ]
     },
     "metadata": {},
     "output_type": "display_data"
    },
    {
     "name": "stdout",
     "output_type": "stream",
     "text": [
      "Jumlah Data : 290\n"
     ]
    }
   ],
   "source": [
    "nganu = ilang(dataset,'pm10',0.27,0.65)"
   ]
  },
  {
   "cell_type": "code",
   "execution_count": 285,
   "metadata": {},
   "outputs": [
    {
     "data": {
      "image/png": "[encoded data removed]",
      "text/plain": [
       "<Figure size 640x480 with 1 Axes>"
      ]
     },
     "metadata": {},
     "output_type": "display_data"
    },
    {
     "name": "stdout",
     "output_type": "stream",
     "text": [
      "Jumlah Data : 323\n"
     ]
    }
   ],
   "source": [
    "pm25=ilang(dataset,'pm25',0.25,0.70)"
   ]
  },
  {
   "cell_type": "code",
   "execution_count": 286,
   "metadata": {},
   "outputs": [
    {
     "data": {
      "image/png": "[encoded data removed]",
      "text/plain": [
       "<Figure size 640x480 with 1 Axes>"
      ]
     },
     "metadata": {},
     "output_type": "display_data"
    },
    {
     "name": "stdout",
     "output_type": "stream",
     "text": [
      "Jumlah Data : 326\n"
     ]
    }
   ],
   "source": [
    "so2=ilang(dataset,'so2',0.30,0.76)"
   ]
  },
  {
   "cell_type": "code",
   "execution_count": 287,
   "metadata": {},
   "outputs": [
    {
     "data": {
      "image/png": "[encoded data removed]",
      "text/plain": [
       "<Figure size 640x480 with 1 Axes>"
      ]
     },
     "metadata": {},
     "output_type": "display_data"
    },
    {
     "name": "stdout",
     "output_type": "stream",
     "text": [
      "Jumlah Data : 326\n"
     ]
    }
   ],
   "source": [
    "co=ilang(dataset,'co',0.25,0.75)"
   ]
  },
  {
   "cell_type": "code",
   "execution_count": 288,
   "metadata": {},
   "outputs": [
    {
     "data": {
      "image/png": "[encoded data removed]",
      "text/plain": [
       "<Figure size 640x480 with 1 Axes>"
      ]
     },
     "metadata": {},
     "output_type": "display_data"
    },
    {
     "name": "stdout",
     "output_type": "stream",
     "text": [
      "Jumlah Data : 332\n"
     ]
    }
   ],
   "source": [
    "o3=ilang(dataset,'o3',0.25,0.75)"
   ]
  },
  {
   "cell_type": "code",
   "execution_count": 289,
   "metadata": {},
   "outputs": [
    {
     "data": {
      "image/png": "[encoded data removed]",
      "text/plain": [
       "<Figure size 640x480 with 1 Axes>"
      ]
     },
     "metadata": {},
     "output_type": "display_data"
    },
    {
     "name": "stdout",
     "output_type": "stream",
     "text": [
      "Jumlah Data : 329\n"
     ]
    }
   ],
   "source": [
    "no2=ilang(dataset,'no2',0.25,0.75)"
   ]
  },
  {
   "cell_type": "code",
   "execution_count": 290,
   "metadata": {},
   "outputs": [
    {
     "data": {
      "image/png": "[encoded data removed]",
      "text/plain": [
       "<Figure size 640x480 with 1 Axes>"
      ]
     },
     "metadata": {},
     "output_type": "display_data"
    },
    {
     "name": "stdout",
     "output_type": "stream",
     "text": [
      "Jumlah Data : 316\n"
     ]
    }
   ],
   "source": [
    "max=ilang(dataset,'max',0.35,0.75)"
   ]
  },
  {
   "cell_type": "code",
   "execution_count": 291,
   "metadata": {},
   "outputs": [
    {
     "data": {
      "image/png": "[encoded data removed]",
      "text/plain": [
       "<Figure size 640x480 with 1 Axes>"
      ]
     },
     "metadata": {},
     "output_type": "display_data"
    },
    {
     "name": "stdout",
     "output_type": "stream",
     "text": [
      "Jumlah Data : 325\n"
     ]
    }
   ],
   "source": [
    "crit=ilang(dataset,'critical',0.25,0.75)"
   ]
  },
  {
   "cell_type": "code",
   "execution_count": 292,
   "metadata": {},
   "outputs": [
    {
     "data": {
      "image/png": "[encoded data removed]",
      "text/plain": [
       "<Figure size 640x480 with 1 Axes>"
      ]
     },
     "metadata": {},
     "output_type": "display_data"
    },
    {
     "name": "stdout",
     "output_type": "stream",
     "text": [
      "Jumlah Data : 334\n"
     ]
    }
   ],
   "source": [
    "cat=ilang(dataset,'categori',0.25,0.75)"
   ]
  },
  {
   "cell_type": "code",
   "execution_count": 293,
   "metadata": {},
   "outputs": [
    {
     "data": {
      "text/plain": [
       "<Axes: >"
      ]
     },
     "execution_count": 293,
     "metadata": {},
     "output_type": "execute_result"
    },
    {
     "data": {
      "image/png": "[encoded data removed]",
      "text/plain": [
       "<Figure size 640x480 with 1 Axes>"
      ]
     },
     "metadata": {},
     "output_type": "display_data"
    }
   ],
   "source": [
    "sns.boxplot(data=dataset)"
   ]
  },
  {
   "cell_type": "code",
   "execution_count": 303,
   "metadata": {},
   "outputs": [
    {
     "name": "stdout",
     "output_type": "stream",
     "text": [
      "     pm10   pm25  so2  co  o3  no2  max  critical  categori\n",
      "31     73  126.0   38  26  46   34  126         2         2\n",
      "32     53   70.0   40  14  55   25   70         2         1\n",
      "40     50   64.0   40  13  49   16   64         2         1\n",
      "42     63   98.0   43  16  33   42   98         2         1\n",
      "43     59   89.0   40  12  40   16   89         2         1\n",
      "..    ...    ...  ...  ..  ..  ...  ...       ...       ...\n",
      "360    75  121.0   61  23  40   47  121         2         2\n",
      "361    59   89.0   53  16  34   33   89         2         1\n",
      "362    61   98.0   54  15  37   29   98         2         1\n",
      "363    60  102.0   53  17  38   44  102         2         2\n",
      "364    64   90.0   52  44  37   53   90         2         1\n",
      "\n",
      "[290 rows x 9 columns]\n"
     ]
    }
   ],
   "source": [
    "x = nganu.iloc[:, :-1]\n",
    "y = nganu.iloc[:, -2].values\n",
    "\n",
    "print(x)\n"
   ]
  },
  {
   "cell_type": "code",
   "execution_count": 295,
   "metadata": {},
   "outputs": [
    {
     "name": "stdout",
     "output_type": "stream",
     "text": [
      "[2 1 1 1 1 1 1 1 1 1 1 2 1 1 1 1 2 1 1 1 2 1 1 2 1 1 1 1 1 1 1 2 2 2 1 2 2\n",
      " 1 1 1 1 1 1 1 1 1 1 1 2 1 1 1 1 2 2 1 1 1 1 1 2 1 2 1 2 1 2 2 2 2 1 1 1 2\n",
      " 1 1 2 2 1 2 1 1 1 2 2 2 1 1 1 1 1 1 2 1 1 2 1 1 1 1 1 1 1 2 1 1 1 1 1 1 2\n",
      " 2 2 1 1 1 2 2 1 2 2 2 2 1 1 2 2 2 2 2 2 2 2 2 2 2 2 2 1 2 2 2 2 2 2 2 2 2\n",
      " 2 2 2 2 2 1 1 1 2 1 1 2 2 1 1 2 2 2 2 2 1 2 1 2 2 1 2 2 2 2 1 2 2 2 2 2 2\n",
      " 2 1 2 2 1 2 1 1 2 2 1 2 1 1 2 1 1 1 2 2 2 2 1 1 1 2 2 1 2 1 2 1 2 1 1 1 1\n",
      " 1 2 1 2 2 2 1 1 1 1 2 2 2 2 2 1 1 1 2 1 1 1 1 1 1 1 1 1 2 1 1 1 1 1 1 1 2\n",
      " 1 1 1 1 1 1 1 1 1 1 1 1 1 1 1 2 2 1 1 2 1 1 1 1 1 1 2 1 1 2 1]\n"
     ]
    }
   ],
   "source": [
    "print(y)"
   ]
  },
  {
   "cell_type": "code",
   "execution_count": 296,
   "metadata": {},
   "outputs": [],
   "source": [
    "# Split data menjadi data pelatihan dan pengujian\n",
    "X_train, X_test, y_train, y_test = train_test_split(x, y, test_size=0.2, random_state=42)"
   ]
  },
  {
   "cell_type": "code",
   "execution_count": 297,
   "metadata": {},
   "outputs": [
    {
     "name": "stdout",
     "output_type": "stream",
     "text": [
      "accuracy: 0.9827586206896551\n"
     ]
    }
   ],
   "source": [
    "# standarlisasi fitur\n",
    "Scaler = StandardScaler()\n",
    "X_train = Scaler.fit_transform(X_train)\n",
    "X_test = Scaler.transform(X_test)\n",
    "\n",
    "# inisialisasi model svm\n",
    "svm_model = SVC(kernel='linear',random_state=42)\n",
    "\n",
    "# latih model\n",
    "svm_model.fit(X_train, y_train)\n",
    "\n",
    "# buat prediksi\n",
    "y_prend = svm_model.predict(X_test)\n",
    "\n",
    "# evaluasi model\n",
    "accuracy = accuracy_score (y_test, y_prend)\n",
    "print(f'accuracy: {accuracy}')"
   ]
  },
  {
   "cell_type": "code",
   "execution_count": 298,
   "metadata": {},
   "outputs": [
    {
     "name": "stdout",
     "output_type": "stream",
     "text": [
      "accuracy (category): 0.9827586206896551\n"
     ]
    }
   ],
   "source": [
    "x = nganu.iloc[:, :-3]\n",
    "y_category = nganu.iloc[:, -2].values\n",
    "from sklearn.model_selection import train_test_split\n",
    "\n",
    "X_train_cat, X_test_cat, y_train_cat, y_test_cat = train_test_split(x, y_category, test_size=0.2, random_state=42)\n",
    "from sklearn.preprocessing import StandardScaler\n",
    "\n",
    "Scaler_cat = StandardScaler()\n",
    "X_train_cat = Scaler_cat.fit_transform(X_train_cat)\n",
    "X_test_cat = Scaler_cat.transform(X_test_cat)\n",
    "\n",
    "from sklearn.svm import SVC\n",
    "\n",
    "svm_model_cat = SVC(kernel='linear', random_state=42)\n",
    "svm_model_cat.fit(X_train_cat, y_train_cat)\n",
    "\n",
    "from sklearn.metrics import accuracy_score\n",
    "\n",
    "y_pred_cat = svm_model_cat.predict(X_test_cat)\n",
    "accuracy_cat = accuracy_score(y_test_cat, y_pred_cat)\n",
    "print(f'accuracy (category): {accuracy_cat}')\n",
    "\n",
    "import pickle\n",
    "with open('svm_model_category.pkl', 'wb') as model_file:\n",
    "    pickle.dump(svm_model_cat, model_file)\n",
    "\n",
    "with open('scaler_category.pkl', 'wb') as scaler_file:\n",
    "    pickle.dump(Scaler_cat, scaler_file)\n",
    "\n",
    "\n"
   ]
  },
  {
   "cell_type": "code",
   "execution_count": 299,
   "metadata": {},
   "outputs": [],
   "source": [
    "import pickle\n",
    "\n",
    "with open('svm_model.pkl', 'wb') as model_file:\n",
    "    pickle.dump(svm_model, model_file)\n",
    "\n",
    "with open('scaler.pkl', 'wb') as scaler_file:\n",
    "    pickle.dump(Scaler, scaler_file)"
   ]
  }
 ],
 "metadata": {
  "kernelspec": {
   "display_name": "Python 3",
   "language": "python",
   "name": "python3"
  },
  "language_info": {
   "codemirror_mode": {
    "name": "ipython",
    "version": 3
   },
   "file_extension": ".py",
   "mimetype": "text/x-python",
   "name": "python",
   "nbconvert_exporter": "python",
   "pygments_lexer": "ipython3",
   "version": "3.11.5"
  }
 },
 "nbformat": 4,
 "nbformat_minor": 2
}
